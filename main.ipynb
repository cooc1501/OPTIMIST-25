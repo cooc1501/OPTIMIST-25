{
 "cells": [
  {
   "cell_type": "markdown",
   "id": "14ec0105",
   "metadata": {},
   "source": [
    "## SCALib Test"
   ]
  },
  {
   "cell_type": "code",
   "execution_count": null,
   "id": "7675ceff",
   "metadata": {},
   "outputs": [
    {
     "name": "stdout",
     "output_type": "stream",
     "text": [
      "Module AES128 not found, compiling instrumented Tiny-AES shared library\n"
     ]
    },
    {
     "name": "stderr",
     "output_type": "stream",
     "text": [
      "AES128.c:988:13: warning: ‘Cipher’ defined but not used [-Wunused-function]\n",
      "  988 | static void Cipher(state_t* state, const uint8_t* RoundKey)\n",
      "      |             ^~~~~~\n"
     ]
    },
    {
     "name": "stdout",
     "output_type": "stream",
     "text": [
      "Module AES192 not found, compiling instrumented Tiny-AES shared library\n"
     ]
    },
    {
     "name": "stderr",
     "output_type": "stream",
     "text": [
      "AES192.c:624:9: warning: ‘AES_KEYLEN’ redefined\n",
      "  624 | #define AES_KEYLEN 16   // Key length in bytes\n",
      "      |         ^~~~~~~~~~\n",
      "<command-line>: note: this is the location of the previous definition\n",
      "AES192.c:988:13: warning: ‘Cipher’ defined but not used [-Wunused-function]\n",
      "  988 | static void Cipher(state_t* state, const uint8_t* RoundKey)\n",
      "      |             ^~~~~~\n"
     ]
    },
    {
     "name": "stdout",
     "output_type": "stream",
     "text": [
      "Module AES256 not found, compiling instrumented Tiny-AES shared library\n"
     ]
    },
    {
     "name": "stderr",
     "output_type": "stream",
     "text": [
      "AES256.c:624:9: warning: ‘AES_KEYLEN’ redefined\n",
      "  624 | #define AES_KEYLEN 16   // Key length in bytes\n",
      "      |         ^~~~~~~~~~\n",
      "<command-line>: note: this is the location of the previous definition\n",
      "AES256.c:988:13: warning: ‘Cipher’ defined but not used [-Wunused-function]\n",
      "  988 | static void Cipher(state_t* state, const uint8_t* RoundKey)\n",
      "      |             ^~~~~~\n"
     ]
    },
    {
     "name": "stdout",
     "output_type": "stream",
     "text": [
      "Ignoring exception:\n",
      "('No input specification for OracleAES: input_conditions must be declared in OracleAES.__new__', \"'OracleAES' object has no attribute 'input_conditions'\")\n"
     ]
    },
    {
     "ename": "Exception",
     "evalue": "Using SCALib from a thread without contextvars propagation is not supported.\nWe provide scalib.tools.ContextExecutor as a contextvars-aware replacement\nfor concurrent.futures.ThreadPoolExecutor.\nSee https://github.com/simple-crypto/SCALib/issues/89 for more information.",
     "output_type": "error",
     "traceback": [
      "\u001b[31m---------------------------------------------------------------------------\u001b[39m",
      "\u001b[31mLookupError\u001b[39m                               Traceback (most recent call last)",
      "\u001b[36mFile \u001b[39m\u001b[32m~/research-local/OPTIMIST-25/.venv/lib/python3.13/site-packages/scalib/config/__init__.py:146\u001b[39m, in \u001b[36mget_config\u001b[39m\u001b[34m()\u001b[39m\n\u001b[32m    145\u001b[39m \u001b[38;5;28;01mtry\u001b[39;00m:\n\u001b[32m--> \u001b[39m\u001b[32m146\u001b[39m     \u001b[38;5;28;01mreturn\u001b[39;00m \u001b[43m_current\u001b[49m\u001b[43m.\u001b[49m\u001b[43mget\u001b[49m\u001b[43m(\u001b[49m\u001b[43m)\u001b[49m\n\u001b[32m    147\u001b[39m \u001b[38;5;28;01mexcept\u001b[39;00m \u001b[38;5;167;01mLookupError\u001b[39;00m:\n\u001b[32m    148\u001b[39m     \u001b[38;5;66;03m# TODO: use add_note on the orignal exception once we drop support for python 3.10.\u001b[39;00m\n",
      "\u001b[31mLookupError\u001b[39m: <ContextVar name='scalib config' at 0x7164034212b0>",
      "\nDuring handling of the above exception, another exception occurred:\n",
      "\u001b[31mException\u001b[39m                                 Traceback (most recent call last)",
      "\u001b[36mCell\u001b[39m\u001b[36m \u001b[39m\u001b[32mIn[1]\u001b[39m\u001b[32m, line 28\u001b[39m\n\u001b[32m     21\u001b[39m oracle = OracleAES(\n\u001b[32m     22\u001b[39m     aes_type=\u001b[32m128\u001b[39m, keys=k, texts=ct, \n\u001b[32m     23\u001b[39m     \u001b[38;5;28mround\u001b[39m=\u001b[32m1\u001b[39m, step=\u001b[33m'\u001b[39m\u001b[33msbox\u001b[39m\u001b[33m'\u001b[39m,               \u001b[38;5;66;03m# finds intermediate state at round 'round' step 'step'\u001b[39;00m\n\u001b[32m     24\u001b[39m     client=\u001b[38;5;28;01mNone\u001b[39;00m, lazy=\u001b[38;5;28;01mFalse\u001b[39;00m             \u001b[38;5;66;03m# lazy=False computes results immedietly on init\u001b[39;00m\n\u001b[32m     25\u001b[39m )\n\u001b[32m     27\u001b[39m \u001b[38;5;66;03m# instantiate SNR\u001b[39;00m\n\u001b[32m---> \u001b[39m\u001b[32m28\u001b[39m snr = \u001b[43mSNR\u001b[49m\u001b[43m(\u001b[49m\u001b[43mt\u001b[49m\u001b[43m,\u001b[49m\u001b[43m \u001b[49m\u001b[43moracle\u001b[49m\u001b[43m.\u001b[49m\u001b[43mresult\u001b[49m\u001b[43m,\u001b[49m\u001b[43m \u001b[49m\u001b[43mclient\u001b[49m\u001b[43m=\u001b[49m\u001b[38;5;28;43;01mNone\u001b[39;49;00m\u001b[43m)\u001b[49m\n\u001b[32m     31\u001b[39m \u001b[38;5;66;03m# t0 = perf_counter_ns()\u001b[39;00m\n\u001b[32m     32\u001b[39m \u001b[38;5;66;03m# snr.fit_u(t, oracle.result.astype(np.uint16))\u001b[39;00m\n\u001b[32m     33\u001b[39m \u001b[38;5;66;03m# out = snr.get_snr()\u001b[39;00m\n\u001b[32m     34\u001b[39m \u001b[38;5;66;03m# dt = perf_counter_ns() - t0\u001b[39;00m\n\u001b[32m     35\u001b[39m \n\u001b[32m     36\u001b[39m \u001b[38;5;66;03m# print(f\"Performed SNR calculation in {dt*1e-9:.6f} Seconds\")\u001b[39;00m\n\u001b[32m     38\u001b[39m \u001b[38;5;28;01mfor\u001b[39;00m i \u001b[38;5;129;01min\u001b[39;00m \u001b[38;5;28mrange\u001b[39m(snr.shape[\u001b[32m0\u001b[39m]):\n",
      "\u001b[36mFile \u001b[39m\u001b[32m~/research-local/OPTIMIST-25/src/dask_operation.py:42\u001b[39m, in \u001b[36mDaskOperation.__init__\u001b[39m\u001b[34m(self, *args, **kwargs)\u001b[39m\n\u001b[32m     41\u001b[39m \u001b[38;5;28;01mdef\u001b[39;00m\u001b[38;5;250m \u001b[39m\u001b[34m__init__\u001b[39m(\u001b[38;5;28mself\u001b[39m, *args, **kwargs):\n\u001b[32m---> \u001b[39m\u001b[32m42\u001b[39m     \u001b[38;5;28;43mself\u001b[39;49m\u001b[43m.\u001b[49m\u001b[43m_begin\u001b[49m\u001b[43m(\u001b[49m\u001b[43m)\u001b[49m\n",
      "\u001b[36mFile \u001b[39m\u001b[32m~/research-local/OPTIMIST-25/src/dask_operation.py:69\u001b[39m, in \u001b[36mDaskOperation._begin\u001b[39m\u001b[34m(self)\u001b[39m\n\u001b[32m     66\u001b[39m     \u001b[38;5;28mprint\u001b[39m(\u001b[33m\"\u001b[39m\u001b[33mIgnoring exception:\u001b[39m\u001b[33m\"\u001b[39m)\n\u001b[32m     67\u001b[39m     \u001b[38;5;28mprint\u001b[39m(e)\n\u001b[32m---> \u001b[39m\u001b[32m69\u001b[39m \u001b[38;5;28;43mself\u001b[39;49m\u001b[43m.\u001b[49m\u001b[43m_operation\u001b[49m\u001b[43m(\u001b[49m\u001b[43m)\u001b[49m\n\u001b[32m     71\u001b[39m \u001b[38;5;28;01mif\u001b[39;00m \u001b[38;5;129;01mnot\u001b[39;00m \u001b[38;5;28mself\u001b[39m._lazy:\n\u001b[32m     72\u001b[39m     \u001b[38;5;28mself\u001b[39m._compute_output()\n",
      "\u001b[36mFile \u001b[39m\u001b[32m~/research-local/OPTIMIST-25/src/dask_operation.py:229\u001b[39m, in \u001b[36mSNR._operation\u001b[39m\u001b[34m(self)\u001b[39m\n\u001b[32m    225\u001b[39m \u001b[38;5;66;03m# lv_unq = lv_unq.compute()\u001b[39;00m\n\u001b[32m    226\u001b[39m \u001b[38;5;66;03m# cnt_unq = cnt_unq.compute()\u001b[39;00m\n\u001b[32m    228\u001b[39m snr_intf = scalibSNR(nc=lv_unq.size)\n\u001b[32m--> \u001b[39m\u001b[32m229\u001b[39m x = \u001b[43mda\u001b[49m\u001b[43m.\u001b[49m\u001b[43mblockwise\u001b[49m\u001b[43m(\u001b[49m\u001b[43msnr_intf\u001b[49m\u001b[43m.\u001b[49m\u001b[43mfit_u\u001b[49m\u001b[43m,\u001b[49m\u001b[43m \u001b[49m\u001b[33;43m'\u001b[39;49m\u001b[33;43m'\u001b[39;49m\u001b[43m,\u001b[49m\u001b[43m \u001b[49m\u001b[43mtv\u001b[49m\u001b[43m,\u001b[49m\u001b[43m \u001b[49m\u001b[33;43m'\u001b[39;49m\u001b[33;43mnl\u001b[39;49m\u001b[33;43m'\u001b[39;49m\u001b[43m,\u001b[49m\u001b[43m \u001b[49m\u001b[43mlv\u001b[49m\u001b[43m,\u001b[49m\u001b[43m \u001b[49m\u001b[33;43m'\u001b[39;49m\u001b[33;43mnk\u001b[39;49m\u001b[33;43m'\u001b[39;49m\u001b[43m,\u001b[49m\u001b[43m \u001b[49m\u001b[43mdtype\u001b[49m\u001b[43m=\u001b[49m\u001b[43mnp\u001b[49m\u001b[43m.\u001b[49m\u001b[43mfloat64\u001b[49m\u001b[43m,\u001b[49m\u001b[43m \u001b[49m\u001b[43mconcatenate\u001b[49m\u001b[43m=\u001b[49m\u001b[38;5;28;43;01mTrue\u001b[39;49;00m\u001b[43m,\u001b[49m\u001b[43m \u001b[49m\u001b[43mmeta\u001b[49m\u001b[43m=\u001b[49m\u001b[43mnp\u001b[49m\u001b[43m.\u001b[49m\u001b[43marray\u001b[49m\u001b[43m(\u001b[49m\u001b[43m(\u001b[49m\u001b[32;43m1\u001b[39;49m\u001b[43m,\u001b[49m\u001b[43m \u001b[49m\u001b[43m)\u001b[49m\u001b[43m)\u001b[49m\u001b[43m)\u001b[49m\u001b[43m.\u001b[49m\u001b[43mcompute\u001b[49m\u001b[43m(\u001b[49m\u001b[43m)\u001b[49m\n\u001b[32m    230\u001b[39m snr = snr_intf.get_snr()\n\u001b[32m    232\u001b[39m \u001b[38;5;28mself\u001b[39m._set_output(snr, \u001b[33m'\u001b[39m\u001b[33msnr\u001b[39m\u001b[33m'\u001b[39m)\n",
      "\u001b[36mFile \u001b[39m\u001b[32m~/research-local/OPTIMIST-25/.venv/lib/python3.13/site-packages/dask/base.py:373\u001b[39m, in \u001b[36mDaskMethodsMixin.compute\u001b[39m\u001b[34m(self, **kwargs)\u001b[39m\n\u001b[32m    349\u001b[39m \u001b[38;5;28;01mdef\u001b[39;00m\u001b[38;5;250m \u001b[39m\u001b[34mcompute\u001b[39m(\u001b[38;5;28mself\u001b[39m, **kwargs):\n\u001b[32m    350\u001b[39m \u001b[38;5;250m    \u001b[39m\u001b[33;03m\"\"\"Compute this dask collection\u001b[39;00m\n\u001b[32m    351\u001b[39m \n\u001b[32m    352\u001b[39m \u001b[33;03m    This turns a lazy Dask collection into its in-memory equivalent.\u001b[39;00m\n\u001b[32m   (...)\u001b[39m\u001b[32m    371\u001b[39m \u001b[33;03m    dask.compute\u001b[39;00m\n\u001b[32m    372\u001b[39m \u001b[33;03m    \"\"\"\u001b[39;00m\n\u001b[32m--> \u001b[39m\u001b[32m373\u001b[39m     (result,) = \u001b[43mcompute\u001b[49m\u001b[43m(\u001b[49m\u001b[38;5;28;43mself\u001b[39;49m\u001b[43m,\u001b[49m\u001b[43m \u001b[49m\u001b[43mtraverse\u001b[49m\u001b[43m=\u001b[49m\u001b[38;5;28;43;01mFalse\u001b[39;49;00m\u001b[43m,\u001b[49m\u001b[43m \u001b[49m\u001b[43m*\u001b[49m\u001b[43m*\u001b[49m\u001b[43mkwargs\u001b[49m\u001b[43m)\u001b[49m\n\u001b[32m    374\u001b[39m     \u001b[38;5;28;01mreturn\u001b[39;00m result\n",
      "\u001b[36mFile \u001b[39m\u001b[32m~/research-local/OPTIMIST-25/.venv/lib/python3.13/site-packages/dask/base.py:681\u001b[39m, in \u001b[36mcompute\u001b[39m\u001b[34m(traverse, optimize_graph, scheduler, get, *args, **kwargs)\u001b[39m\n\u001b[32m    678\u001b[39m     expr = expr.optimize()\n\u001b[32m    679\u001b[39m     keys = \u001b[38;5;28mlist\u001b[39m(flatten(expr.__dask_keys__()))\n\u001b[32m--> \u001b[39m\u001b[32m681\u001b[39m     results = \u001b[43mschedule\u001b[49m\u001b[43m(\u001b[49m\u001b[43mexpr\u001b[49m\u001b[43m,\u001b[49m\u001b[43m \u001b[49m\u001b[43mkeys\u001b[49m\u001b[43m,\u001b[49m\u001b[43m \u001b[49m\u001b[43m*\u001b[49m\u001b[43m*\u001b[49m\u001b[43mkwargs\u001b[49m\u001b[43m)\u001b[49m\n\u001b[32m    683\u001b[39m \u001b[38;5;28;01mreturn\u001b[39;00m repack(results)\n",
      "\u001b[36mFile \u001b[39m\u001b[32m~/research-local/OPTIMIST-25/.venv/lib/python3.13/site-packages/scalib/metrics/snr.py:98\u001b[39m, in \u001b[36mSNR.fit_u\u001b[39m\u001b[34m(self, traces, x)\u001b[39m\n\u001b[32m     96\u001b[39m x = np.ascontiguousarray(x.transpose())\n\u001b[32m     97\u001b[39m \u001b[38;5;28;01mwith\u001b[39;00m scalib.utils.interruptible():\n\u001b[32m---> \u001b[39m\u001b[32m98\u001b[39m     \u001b[38;5;28mself\u001b[39m._snr.update(traces, x, \u001b[43mget_config\u001b[49m\u001b[43m(\u001b[49m\u001b[43m)\u001b[49m)\n",
      "\u001b[36mFile \u001b[39m\u001b[32m~/research-local/OPTIMIST-25/.venv/lib/python3.13/site-packages/scalib/config/__init__.py:149\u001b[39m, in \u001b[36mget_config\u001b[39m\u001b[34m()\u001b[39m\n\u001b[32m    146\u001b[39m     \u001b[38;5;28;01mreturn\u001b[39;00m _current.get()\n\u001b[32m    147\u001b[39m \u001b[38;5;28;01mexcept\u001b[39;00m \u001b[38;5;167;01mLookupError\u001b[39;00m:\n\u001b[32m    148\u001b[39m     \u001b[38;5;66;03m# TODO: use add_note on the orignal exception once we drop support for python 3.10.\u001b[39;00m\n\u001b[32m--> \u001b[39m\u001b[32m149\u001b[39m     \u001b[38;5;28;01mraise\u001b[39;00m \u001b[38;5;167;01mException\u001b[39;00m(\n\u001b[32m    150\u001b[39m         \u001b[33m\"\u001b[39m\u001b[33mUsing SCALib from a thread without contextvars propagation is not supported.\u001b[39m\u001b[38;5;130;01m\\n\u001b[39;00m\u001b[33m\"\u001b[39m\n\u001b[32m    151\u001b[39m         + \u001b[33m\"\u001b[39m\u001b[33mWe provide scalib.tools.ContextExecutor as a contextvars-aware replacement\u001b[39m\u001b[38;5;130;01m\\n\u001b[39;00m\u001b[33m\"\u001b[39m\n\u001b[32m    152\u001b[39m         + \u001b[33m\"\u001b[39m\u001b[33mfor concurrent.futures.ThreadPoolExecutor.\u001b[39m\u001b[38;5;130;01m\\n\u001b[39;00m\u001b[33m\"\u001b[39m\n\u001b[32m    153\u001b[39m         + \u001b[33m\"\u001b[39m\u001b[33mSee https://github.com/simple-crypto/SCALib/issues/89 for more information.\u001b[39m\u001b[33m\"\u001b[39m\n\u001b[32m    154\u001b[39m     )\n",
      "\u001b[31mException\u001b[39m: Using SCALib from a thread without contextvars propagation is not supported.\nWe provide scalib.tools.ContextExecutor as a contextvars-aware replacement\nfor concurrent.futures.ThreadPoolExecutor.\nSee https://github.com/simple-crypto/SCALib/issues/89 for more information."
     ]
    }
   ],
   "source": [
    "# from scalib.metrics import SNR\n",
    "from matplotlib import pyplot as plt\n",
    "from time import perf_counter_ns\n",
    "import os\n",
    "\n",
    "from src.zarr_handler import DaskZarrHandler\n",
    "from src.dask_operation import OracleAES, SNR\n",
    "\n",
    "# import dataset\n",
    "def local_dataset(name: str) -> str:\n",
    "    return os.path.join(os.path.expanduser(\"~\"), \"Nextcloud\", \"UNH\", \"Research\", \"Projects\", \"SCA Datasets\", name + '.zarr')\n",
    "dataset_name = \"SAM4S 100000 random Traces [50c]\"\n",
    "dset_handle = DaskZarrHandler(local_dataset(dataset_name), chunksize=2000)\n",
    "\n",
    "# get data\n",
    "k = dset_handle.get_dask_array(0, 0, \"key\")\n",
    "ct = dset_handle.get_dask_array(0, 0, \"ciphertext\")\n",
    "t = dset_handle.get_dask_array(0, 0, \"traces\")\n",
    "\n",
    "# instantiate oracle\n",
    "oracle = OracleAES(\n",
    "    aes_type=128, keys=k, texts=ct, \n",
    "    round=1, step='sbox',               # finds intermediate state at round 'round' step 'step'\n",
    "    lazy=False                          # lazy=False computes results immedietly on init\n",
    ")\n",
    "\n",
    "# instantiate SNR\n",
    "snr = SNR(t, oracle.result)\n",
    "\n",
    "\n",
    "# t0 = perf_counter_ns()\n",
    "# snr.fit_u(t, oracle.result.astype(np.uint16))\n",
    "# out = snr.get_snr()\n",
    "# dt = perf_counter_ns() - t0\n",
    "\n",
    "# print(f\"Performed SNR calculation in {dt*1e-9:.6f} Seconds\")\n",
    "\n",
    "for i in range(snr.shape[0]):\n",
    "    plt.plot(np.arange(snr.shape[1]), snr[i])\n",
    "plt.show()\n"
   ]
  },
  {
   "cell_type": "markdown",
   "id": "b9baa0b7",
   "metadata": {},
   "source": [
    "## Figures / data for OPTIMIST Presentation"
   ]
  },
  {
   "cell_type": "code",
   "execution_count": null,
   "id": "572e5a5e",
   "metadata": {},
   "outputs": [],
   "source": [
    "from src.ral_scarr.engines.NICV import NICV\n",
    "from src.ral_scarr.engines.snr import SNR\n",
    "from src.ral_scarr.file_handling.trace_handler import TraceHandler as th\n",
    "from src.ral_scarr.container.container import Container, ContainerOptions\n",
    "from src.ral_scarr.model_values.ciphertext import CipherText\n",
    "\n",
    "dataset_name = \"SAM4S 100000 random Traces [50c]\"\n",
    "handler = th(fileName=local_dataset(dataset_name), batchSize=5000)\n",
    "\n",
    "container = Container(options=ContainerOptions(engine=engine, handler=handler), model_positions=[i for i in range(16)])\n",
    "container.run()\n",
    "results = np.squeeze(engine.get_result())\n",
    "\n"
   ]
  }
 ],
 "metadata": {
  "kernelspec": {
   "display_name": ".venv",
   "language": "python",
   "name": "python3"
  },
  "language_info": {
   "codemirror_mode": {
    "name": "ipython",
    "version": 3
   },
   "file_extension": ".py",
   "mimetype": "text/x-python",
   "name": "python",
   "nbconvert_exporter": "python",
   "pygments_lexer": "ipython3",
   "version": "3.13.7"
  }
 },
 "nbformat": 4,
 "nbformat_minor": 5
}
