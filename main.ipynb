{
 "cells": [
  {
   "cell_type": "markdown",
   "id": "b9baa0b7",
   "metadata": {},
   "source": [
    "## Figures & Data for OPTIMIST Presentation"
   ]
  },
  {
   "cell_type": "code",
   "execution_count": null,
   "id": "572e5a5e",
   "metadata": {},
   "outputs": [],
   "source": [
    "from matplotlib import pyplot as plt\n",
    "from time import perf_counter_ns\n",
    "import os\n",
    "import numpy as np\n",
    "\n",
    "from src.zarr_handler import ZarrHandler\n",
    "from src.generic_operation import OracleAES, SNR, NICV\n",
    "\n",
    "def presentation_plot(data: np.ndarray, plot_size: tuple[int, int], lq_name: str, subtitle: str, yscale: tuple[float|int, float|int]):\n",
    "    plt.figure(figsize=plot_size)\n",
    "    for i in range(data.shape[0]):\n",
    "        plt.plot(np.arange(data.shape[1]), data[i, :], label=f\"byte {i}\", color=(i/data.shape[0], 0, 1-(i/data.shape[0])))\n",
    "        ax = plt.gca()\n",
    "        ax.set_ylim(bottom=yscale[0], top=yscale[1])\n",
    "        plt.legend(loc='upper right')\n",
    "        plt.title(f\"{lq_name}\\n{subtitle}\")\n",
    "        plt.xlabel(\"Time sample\")\n",
    "        plt.ylabel(f\"{lq_name} (leakage)\")\n",
    "    plt.savefig(f\"figure-{subtitle.lower()}.png\", dpi=300)\n",
    "    # plt.show()\n",
    "\n",
    "# import dataset\n",
    "def presentation_dataset(name: str) -> str:\n",
    "    return os.path.join(\"data\", name + '.zarr')\n",
    "dataset_name = \"SAM4S 100000 random Traces [50c]\"\n",
    "dset = ZarrHandler(presentation_dataset(dataset_name), chunks=10000)\n",
    "\n",
    "# get data\n",
    "k = dset.get(\"key\")\n",
    "ct = dset.get(\"ciphertext\")\n",
    "t = dset.get(\"traces\")\n",
    "\n",
    "# we use SNR for leakage quantification\n",
    "snr = SNR(t, ct.compute())\n",
    "presentation_plot(snr.snr, (10, 10), \"SNR\", f\"Target: Ciphertext (input)\", (0, 1.6))\n",
    "\n",
    "# calculate leakage for each step in the first round of AES\n",
    "for target in ((1, 'sbox'), (1, 'shift'), (1, 'mix'), (1, 'add')):\n",
    "    # instantiate oracle\n",
    "    oracle = OracleAES(\n",
    "        aes_type=128, keys=k, texts=ct, \n",
    "        round=target[0], step=target[1],    # finds intermediate state at round 'round' step 'step'\n",
    "        lazy=False                          # lazy=False computes results immedietly on init\n",
    "    )\n",
    "\n",
    "    # instantiate SNR operation\n",
    "    snr = SNR(t, oracle.result)\n",
    "\n",
    "    # plot results\n",
    "    presentation_plot(snr.snr, (10, 10), \"SNR\", f\"Target: {target[1].upper()} Round {target[0]} result\", (0, 1.6))\n",
    "\n"
   ]
  },
  {
   "cell_type": "markdown",
   "id": "d6d02a26",
   "metadata": {},
   "source": [
    "## Proof of Concept: Comparative Analysis of Multiple Datasets"
   ]
  },
  {
   "cell_type": "code",
   "execution_count": null,
   "id": "3f9a9527",
   "metadata": {},
   "outputs": [],
   "source": [
    "dataset_names = [\n",
    "    \"SAM4S 100000 random Traces [50c]\",\n",
    "    \"SAM4S 100000 random Traces [60c]\"\n",
    "]\n",
    "\n",
    "datasets = [ ZarrHandler(presentation_dataset(name), chunks=10000) for name in dataset_names ]\n",
    "oracles = [ OracleAES(aes_type=128, keys=dset.get(\"key\"), texts=dset.get(\"ciphertext\"), round=1, step='sbox', lazy=False) for dset in datasets ]\n",
    "results = [ SNR(dset.get(\"traces\"), oracle.result).snr for dset, oracle in zip(datasets, oracles) ]\n",
    "\n",
    "for (result, name) in zip(results, dataset_names):\n",
    "    presentation_plot(result, (10, 10), \"SNR\", f\"Target: Round 1 SBOX | {name}\", (0, 1.6))\n",
    "\n",
    "presentation_plot(np.abs(np.subtract(results[0], results[1])), (10, 10), \"SNR Difference\", f\"Target: Round 1 SBOX\", (0, 0.1))\n"
   ]
  }
 ],
 "metadata": {
  "kernelspec": {
   "display_name": ".venv",
   "language": "python",
   "name": "python3"
  },
  "language_info": {
   "codemirror_mode": {
    "name": "ipython",
    "version": 3
   },
   "file_extension": ".py",
   "mimetype": "text/x-python",
   "name": "python",
   "nbconvert_exporter": "python",
   "pygments_lexer": "ipython3",
   "version": "3.13.7"
  }
 },
 "nbformat": 4,
 "nbformat_minor": 5
}
